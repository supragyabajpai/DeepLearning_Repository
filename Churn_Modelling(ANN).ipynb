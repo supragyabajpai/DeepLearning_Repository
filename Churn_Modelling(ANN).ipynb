{
  "nbformat": 4,
  "nbformat_minor": 0,
  "metadata": {
    "colab": {
      "name": "Churn_Modelling(ANN).ipynb",
      "provenance": [],
      "authorship_tag": "ABX9TyNglW0zoD/uCGfAb1pC1YEO",
      "include_colab_link": true
    },
    "kernelspec": {
      "name": "python3",
      "display_name": "Python 3"
    },
    "accelerator": "GPU"
  },
  "cells": [
    {
      "cell_type": "markdown",
      "metadata": {
        "id": "view-in-github",
        "colab_type": "text"
      },
      "source": [
        "<a href=\"https://colab.research.google.com/github/supragyabajpai/DeepLearning_Repository/blob/master/Churn_Modelling(ANN).ipynb\" target=\"_parent\"><img src=\"https://colab.research.google.com/assets/colab-badge.svg\" alt=\"Open In Colab\"/></a>"
      ]
    },
    {
      "cell_type": "markdown",
      "metadata": {
        "id": "9B0c-EB5aHJn",
        "colab_type": "text"
      },
      "source": [
        "# **ANN**"
      ]
    },
    {
      "cell_type": "code",
      "metadata": {
        "id": "VtnwtVoQCYgI",
        "colab_type": "code",
        "outputId": "3e2c6279-183f-4732-ced8-cd62df7754f2",
        "colab": {
          "resources": {
            "http://localhost:8080/nbextensions/google.colab/files.js": {
              "data": "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",
              "ok": true,
              "headers": [
                [
                  "content-type",
                  "application/javascript"
                ]
              ],
              "status": 200,
              "status_text": ""
            }
          },
          "base_uri": "https://localhost:8080/",
          "height": 74
        }
      },
      "source": [
        "#importing the dataset from the local host\n",
        "from google.colab import files\n",
        "uploaded = files.upload()"
      ],
      "execution_count": 0,
      "outputs": [
        {
          "output_type": "display_data",
          "data": {
            "text/html": [
              "\n",
              "     <input type=\"file\" id=\"files-aea5ecb6-d71b-486d-86b5-e8c5cc3cf09f\" name=\"files[]\" multiple disabled />\n",
              "     <output id=\"result-aea5ecb6-d71b-486d-86b5-e8c5cc3cf09f\">\n",
              "      Upload widget is only available when the cell has been executed in the\n",
              "      current browser session. Please rerun this cell to enable.\n",
              "      </output>\n",
              "      <script src=\"/nbextensions/google.colab/files.js\"></script> "
            ],
            "text/plain": [
              "<IPython.core.display.HTML object>"
            ]
          },
          "metadata": {
            "tags": []
          }
        },
        {
          "output_type": "stream",
          "text": [
            "Saving Churn_Modelling.csv to Churn_Modelling.csv\n"
          ],
          "name": "stdout"
        }
      ]
    },
    {
      "cell_type": "code",
      "metadata": {
        "id": "pPh7hOtkY6jm",
        "colab_type": "code",
        "colab": {}
      },
      "source": [
        "import numpy as np \n",
        "import pandas as pd\n",
        "pd.set_option('display.max_columns', None)\n",
        "pd.set_option('display.max_rows',None)\n",
        "import matplotlib.pyplot as plt"
      ],
      "execution_count": 0,
      "outputs": []
    },
    {
      "cell_type": "code",
      "metadata": {
        "id": "PlagVCTXZG4C",
        "colab_type": "code",
        "colab": {}
      },
      "source": [
        "# Importing the dataset\n",
        "dataset = pd.read_csv('Churn_Modelling.csv',index_col='RowNumber')\n",
        "dataset.drop(['CustomerId','Surname',],axis=1,inplace=True)\n",
        "# Encoding categorical data\n",
        "from sklearn.preprocessing import LabelEncoder\n",
        "df= pd.get_dummies(dataset['Geography'],drop_first=True)\n",
        "dataset=pd.concat([df,dataset],axis=1)\n",
        "dataset.drop('Geography',axis=1,inplace=True)\n",
        "labelencoder_X_2 = LabelEncoder()\n",
        "dataset['Gender'] = labelencoder_X_2.fit_transform(dataset['Gender'])\n",
        "X = dataset.iloc[:, 0:11].values\n",
        "y = dataset.iloc[:, 11].values"
      ],
      "execution_count": 0,
      "outputs": []
    },
    {
      "cell_type": "code",
      "metadata": {
        "id": "Kx9j1BrWZHB3",
        "colab_type": "code",
        "colab": {}
      },
      "source": [
        "# Splitting the dataset into the Training set and Test set\n",
        "from sklearn.model_selection import train_test_split\n",
        "X_train, X_test, y_train, y_test = train_test_split(X, y, test_size = 0.2, random_state = 0)"
      ],
      "execution_count": 0,
      "outputs": []
    },
    {
      "cell_type": "code",
      "metadata": {
        "id": "r6pPk-xnZHFw",
        "colab_type": "code",
        "colab": {}
      },
      "source": [
        "# Feature Scaling\n",
        "from sklearn.preprocessing import StandardScaler\n",
        "sc = StandardScaler()\n",
        "X_train = sc.fit_transform(X_train)\n",
        "X_test = sc.transform(X_test)"
      ],
      "execution_count": 0,
      "outputs": []
    },
    {
      "cell_type": "code",
      "metadata": {
        "id": "Z3ilwp4BZHPa",
        "colab_type": "code",
        "outputId": "5c685973-ed6b-4bc7-9b34-fd8362362129",
        "colab": {
          "base_uri": "https://localhost:8080/",
          "height": 34
        }
      },
      "source": [
        "# Importing the Keras libraries and packages\n",
        "import tensorflow as tf\n",
        "import keras\n",
        "from keras.models import Sequential\n",
        "from keras.layers import Dense"
      ],
      "execution_count": 0,
      "outputs": [
        {
          "output_type": "stream",
          "text": [
            "Using TensorFlow backend.\n"
          ],
          "name": "stderr"
        }
      ]
    },
    {
      "cell_type": "code",
      "metadata": {
        "id": "gHVyJ2V_ZHT5",
        "colab_type": "code",
        "outputId": "a96ddb6b-ebb1-4db3-eae2-11f3c451d70f",
        "colab": {
          "base_uri": "https://localhost:8080/",
          "height": 1000
        }
      },
      "source": [
        "# Initialising the ANN\n",
        "classifier = Sequential()\n",
        "# Adding the input layer and the first hidden layer\n",
        "classifier.add(Dense(units = 6, kernel_initializer = 'uniform', activation = 'relu', input_dim = 11))\n",
        "# Adding the second hidden layer\n",
        "classifier.add(Dense(units = 6, kernel_initializer = 'uniform', activation = 'relu'))\n",
        "# Adding the output layer\n",
        "classifier.add(Dense(units = 1, kernel_initializer = 'uniform', activation = 'sigmoid'))\n",
        "# Compiling the ANN\n",
        "classifier.compile(optimizer = 'adam', loss = 'binary_crossentropy', metrics = ['accuracy'])\n",
        "# Fitting the ANN to the Training set\n",
        "classifier.fit(X_train, y_train, batch_size = 10, epochs = 100)"
      ],
      "execution_count": 0,
      "outputs": [
        {
          "output_type": "stream",
          "text": [
            "Epoch 1/100\n",
            "8000/8000 [==============================] - 4s 466us/step - loss: 0.5009 - accuracy: 0.7956\n",
            "Epoch 2/100\n",
            "8000/8000 [==============================] - 2s 258us/step - loss: 0.4292 - accuracy: 0.7960\n",
            "Epoch 3/100\n",
            "8000/8000 [==============================] - 2s 253us/step - loss: 0.4241 - accuracy: 0.7960\n",
            "Epoch 4/100\n",
            "8000/8000 [==============================] - 2s 251us/step - loss: 0.4204 - accuracy: 0.7975\n",
            "Epoch 5/100\n",
            "8000/8000 [==============================] - 2s 252us/step - loss: 0.4172 - accuracy: 0.8238\n",
            "Epoch 6/100\n",
            "8000/8000 [==============================] - 2s 248us/step - loss: 0.4152 - accuracy: 0.8301\n",
            "Epoch 7/100\n",
            "8000/8000 [==============================] - 2s 255us/step - loss: 0.4136 - accuracy: 0.8304\n",
            "Epoch 8/100\n",
            "8000/8000 [==============================] - 2s 250us/step - loss: 0.4122 - accuracy: 0.8300\n",
            "Epoch 9/100\n",
            "8000/8000 [==============================] - 2s 254us/step - loss: 0.4115 - accuracy: 0.8317\n",
            "Epoch 10/100\n",
            "8000/8000 [==============================] - 2s 257us/step - loss: 0.4103 - accuracy: 0.8319\n",
            "Epoch 11/100\n",
            "8000/8000 [==============================] - 2s 248us/step - loss: 0.4095 - accuracy: 0.8341\n",
            "Epoch 12/100\n",
            "8000/8000 [==============================] - 2s 248us/step - loss: 0.4088 - accuracy: 0.8339\n",
            "Epoch 13/100\n",
            "8000/8000 [==============================] - 2s 254us/step - loss: 0.4079 - accuracy: 0.8342\n",
            "Epoch 14/100\n",
            "8000/8000 [==============================] - 2s 249us/step - loss: 0.4075 - accuracy: 0.8355\n",
            "Epoch 15/100\n",
            "8000/8000 [==============================] - 2s 252us/step - loss: 0.4070 - accuracy: 0.8346\n",
            "Epoch 16/100\n",
            "8000/8000 [==============================] - 2s 250us/step - loss: 0.4063 - accuracy: 0.8346\n",
            "Epoch 17/100\n",
            "8000/8000 [==============================] - 2s 250us/step - loss: 0.4059 - accuracy: 0.8350\n",
            "Epoch 18/100\n",
            "8000/8000 [==============================] - 2s 251us/step - loss: 0.4053 - accuracy: 0.8334\n",
            "Epoch 19/100\n",
            "8000/8000 [==============================] - 2s 247us/step - loss: 0.4052 - accuracy: 0.8351\n",
            "Epoch 20/100\n",
            "8000/8000 [==============================] - 2s 252us/step - loss: 0.4050 - accuracy: 0.8349\n",
            "Epoch 21/100\n",
            "8000/8000 [==============================] - 2s 249us/step - loss: 0.4048 - accuracy: 0.8356\n",
            "Epoch 22/100\n",
            "8000/8000 [==============================] - 2s 251us/step - loss: 0.4042 - accuracy: 0.8357\n",
            "Epoch 23/100\n",
            "8000/8000 [==============================] - 2s 248us/step - loss: 0.4039 - accuracy: 0.8332\n",
            "Epoch 24/100\n",
            "8000/8000 [==============================] - 2s 250us/step - loss: 0.4039 - accuracy: 0.8349\n",
            "Epoch 25/100\n",
            "8000/8000 [==============================] - 2s 246us/step - loss: 0.4037 - accuracy: 0.8339\n",
            "Epoch 26/100\n",
            "8000/8000 [==============================] - 2s 246us/step - loss: 0.4037 - accuracy: 0.8351\n",
            "Epoch 27/100\n",
            "8000/8000 [==============================] - 2s 250us/step - loss: 0.4032 - accuracy: 0.8339\n",
            "Epoch 28/100\n",
            "8000/8000 [==============================] - 2s 254us/step - loss: 0.4034 - accuracy: 0.8353\n",
            "Epoch 29/100\n",
            "8000/8000 [==============================] - 2s 253us/step - loss: 0.4033 - accuracy: 0.8336\n",
            "Epoch 30/100\n",
            "8000/8000 [==============================] - 2s 249us/step - loss: 0.4027 - accuracy: 0.8350\n",
            "Epoch 31/100\n",
            "8000/8000 [==============================] - 2s 247us/step - loss: 0.4028 - accuracy: 0.8339\n",
            "Epoch 32/100\n",
            "8000/8000 [==============================] - 2s 251us/step - loss: 0.4029 - accuracy: 0.8346\n",
            "Epoch 33/100\n",
            "8000/8000 [==============================] - 2s 249us/step - loss: 0.4027 - accuracy: 0.8344\n",
            "Epoch 34/100\n",
            "8000/8000 [==============================] - 2s 253us/step - loss: 0.4025 - accuracy: 0.8335\n",
            "Epoch 35/100\n",
            "8000/8000 [==============================] - 2s 247us/step - loss: 0.4026 - accuracy: 0.8345\n",
            "Epoch 36/100\n",
            "8000/8000 [==============================] - 2s 248us/step - loss: 0.4024 - accuracy: 0.8338\n",
            "Epoch 37/100\n",
            "8000/8000 [==============================] - 2s 254us/step - loss: 0.4025 - accuracy: 0.8351\n",
            "Epoch 38/100\n",
            "8000/8000 [==============================] - 2s 249us/step - loss: 0.4024 - accuracy: 0.8344\n",
            "Epoch 39/100\n",
            "8000/8000 [==============================] - 2s 249us/step - loss: 0.4022 - accuracy: 0.8355\n",
            "Epoch 40/100\n",
            "8000/8000 [==============================] - 2s 254us/step - loss: 0.4024 - accuracy: 0.8339\n",
            "Epoch 41/100\n",
            "8000/8000 [==============================] - 2s 248us/step - loss: 0.4023 - accuracy: 0.8339\n",
            "Epoch 42/100\n",
            "8000/8000 [==============================] - 2s 248us/step - loss: 0.4023 - accuracy: 0.8336\n",
            "Epoch 43/100\n",
            "8000/8000 [==============================] - 2s 247us/step - loss: 0.4022 - accuracy: 0.8339\n",
            "Epoch 44/100\n",
            "8000/8000 [==============================] - 2s 248us/step - loss: 0.4019 - accuracy: 0.8342\n",
            "Epoch 45/100\n",
            "8000/8000 [==============================] - 2s 246us/step - loss: 0.4020 - accuracy: 0.8357\n",
            "Epoch 46/100\n",
            "8000/8000 [==============================] - 2s 248us/step - loss: 0.4017 - accuracy: 0.8350\n",
            "Epoch 47/100\n",
            "8000/8000 [==============================] - 2s 247us/step - loss: 0.4020 - accuracy: 0.8345\n",
            "Epoch 48/100\n",
            "8000/8000 [==============================] - 2s 251us/step - loss: 0.4021 - accuracy: 0.8340\n",
            "Epoch 49/100\n",
            "8000/8000 [==============================] - 2s 250us/step - loss: 0.4020 - accuracy: 0.8345\n",
            "Epoch 50/100\n",
            "8000/8000 [==============================] - 2s 252us/step - loss: 0.4020 - accuracy: 0.8353\n",
            "Epoch 51/100\n",
            "8000/8000 [==============================] - 2s 248us/step - loss: 0.4020 - accuracy: 0.8340\n",
            "Epoch 52/100\n",
            "8000/8000 [==============================] - 2s 249us/step - loss: 0.4018 - accuracy: 0.8338\n",
            "Epoch 53/100\n",
            "8000/8000 [==============================] - 2s 251us/step - loss: 0.4018 - accuracy: 0.8355\n",
            "Epoch 54/100\n",
            "8000/8000 [==============================] - 2s 249us/step - loss: 0.4018 - accuracy: 0.8335\n",
            "Epoch 55/100\n",
            "8000/8000 [==============================] - 2s 254us/step - loss: 0.4016 - accuracy: 0.8338\n",
            "Epoch 56/100\n",
            "8000/8000 [==============================] - 2s 250us/step - loss: 0.4018 - accuracy: 0.8342\n",
            "Epoch 57/100\n",
            "8000/8000 [==============================] - 2s 250us/step - loss: 0.4017 - accuracy: 0.8338\n",
            "Epoch 58/100\n",
            "8000/8000 [==============================] - 2s 249us/step - loss: 0.4016 - accuracy: 0.8339\n",
            "Epoch 59/100\n",
            "8000/8000 [==============================] - 2s 252us/step - loss: 0.4016 - accuracy: 0.8356\n",
            "Epoch 60/100\n",
            "8000/8000 [==============================] - 2s 252us/step - loss: 0.4018 - accuracy: 0.8342\n",
            "Epoch 61/100\n",
            "8000/8000 [==============================] - 2s 251us/step - loss: 0.4016 - accuracy: 0.8336\n",
            "Epoch 62/100\n",
            "8000/8000 [==============================] - 2s 247us/step - loss: 0.4017 - accuracy: 0.8336\n",
            "Epoch 63/100\n",
            "8000/8000 [==============================] - 2s 249us/step - loss: 0.4015 - accuracy: 0.8334\n",
            "Epoch 64/100\n",
            "8000/8000 [==============================] - 2s 248us/step - loss: 0.4017 - accuracy: 0.8342\n",
            "Epoch 65/100\n",
            "8000/8000 [==============================] - 2s 251us/step - loss: 0.4015 - accuracy: 0.8344\n",
            "Epoch 66/100\n",
            "8000/8000 [==============================] - 2s 248us/step - loss: 0.4015 - accuracy: 0.8342\n",
            "Epoch 67/100\n",
            "8000/8000 [==============================] - 2s 249us/step - loss: 0.4017 - accuracy: 0.8349\n",
            "Epoch 68/100\n",
            "8000/8000 [==============================] - 2s 249us/step - loss: 0.4016 - accuracy: 0.8350\n",
            "Epoch 69/100\n",
            "8000/8000 [==============================] - 2s 248us/step - loss: 0.4017 - accuracy: 0.8342\n",
            "Epoch 70/100\n",
            "8000/8000 [==============================] - 2s 251us/step - loss: 0.4015 - accuracy: 0.8336\n",
            "Epoch 71/100\n",
            "8000/8000 [==============================] - 2s 248us/step - loss: 0.4014 - accuracy: 0.8349\n",
            "Epoch 72/100\n",
            "8000/8000 [==============================] - 2s 247us/step - loss: 0.4017 - accuracy: 0.8353\n",
            "Epoch 73/100\n",
            "8000/8000 [==============================] - 2s 251us/step - loss: 0.4013 - accuracy: 0.8345\n",
            "Epoch 74/100\n",
            "8000/8000 [==============================] - 2s 249us/step - loss: 0.4014 - accuracy: 0.8340\n",
            "Epoch 75/100\n",
            "8000/8000 [==============================] - 2s 247us/step - loss: 0.4015 - accuracy: 0.8345\n",
            "Epoch 76/100\n",
            "8000/8000 [==============================] - 2s 248us/step - loss: 0.4014 - accuracy: 0.8340\n",
            "Epoch 77/100\n",
            "8000/8000 [==============================] - 2s 251us/step - loss: 0.4017 - accuracy: 0.8336\n",
            "Epoch 78/100\n",
            "8000/8000 [==============================] - 2s 248us/step - loss: 0.4013 - accuracy: 0.8347\n",
            "Epoch 79/100\n",
            "8000/8000 [==============================] - 2s 246us/step - loss: 0.4012 - accuracy: 0.8340\n",
            "Epoch 80/100\n",
            "8000/8000 [==============================] - 2s 247us/step - loss: 0.4014 - accuracy: 0.8325\n",
            "Epoch 81/100\n",
            "8000/8000 [==============================] - 2s 252us/step - loss: 0.4012 - accuracy: 0.8340\n",
            "Epoch 82/100\n",
            "8000/8000 [==============================] - 2s 253us/step - loss: 0.4014 - accuracy: 0.8347\n",
            "Epoch 83/100\n",
            "8000/8000 [==============================] - 2s 250us/step - loss: 0.4017 - accuracy: 0.8326\n",
            "Epoch 84/100\n",
            "8000/8000 [==============================] - 2s 255us/step - loss: 0.4011 - accuracy: 0.8349\n",
            "Epoch 85/100\n",
            "8000/8000 [==============================] - 2s 261us/step - loss: 0.4017 - accuracy: 0.8345\n",
            "Epoch 86/100\n",
            "8000/8000 [==============================] - 2s 268us/step - loss: 0.4014 - accuracy: 0.8350\n",
            "Epoch 87/100\n",
            "8000/8000 [==============================] - 2s 244us/step - loss: 0.4012 - accuracy: 0.8335\n",
            "Epoch 88/100\n",
            "8000/8000 [==============================] - 2s 247us/step - loss: 0.4013 - accuracy: 0.8345\n",
            "Epoch 89/100\n",
            "8000/8000 [==============================] - 2s 248us/step - loss: 0.4012 - accuracy: 0.8350\n",
            "Epoch 90/100\n",
            "8000/8000 [==============================] - 2s 247us/step - loss: 0.4011 - accuracy: 0.8355\n",
            "Epoch 91/100\n",
            "8000/8000 [==============================] - 2s 250us/step - loss: 0.4014 - accuracy: 0.8346\n",
            "Epoch 92/100\n",
            "8000/8000 [==============================] - 2s 251us/step - loss: 0.4014 - accuracy: 0.8339\n",
            "Epoch 93/100\n",
            "8000/8000 [==============================] - 2s 249us/step - loss: 0.4015 - accuracy: 0.8346\n",
            "Epoch 94/100\n",
            "8000/8000 [==============================] - 2s 248us/step - loss: 0.4015 - accuracy: 0.8339\n",
            "Epoch 95/100\n",
            "8000/8000 [==============================] - 2s 248us/step - loss: 0.4013 - accuracy: 0.8346\n",
            "Epoch 96/100\n",
            "8000/8000 [==============================] - 2s 249us/step - loss: 0.4013 - accuracy: 0.8336\n",
            "Epoch 97/100\n",
            "8000/8000 [==============================] - 2s 255us/step - loss: 0.4013 - accuracy: 0.8332\n",
            "Epoch 98/100\n",
            "8000/8000 [==============================] - 2s 257us/step - loss: 0.4013 - accuracy: 0.8335\n",
            "Epoch 99/100\n",
            "8000/8000 [==============================] - 2s 254us/step - loss: 0.4013 - accuracy: 0.8346\n",
            "Epoch 100/100\n",
            "8000/8000 [==============================] - 2s 249us/step - loss: 0.4011 - accuracy: 0.8339\n"
          ],
          "name": "stdout"
        },
        {
          "output_type": "execute_result",
          "data": {
            "text/plain": [
              "<keras.callbacks.callbacks.History at 0x7f7b88080080>"
            ]
          },
          "metadata": {
            "tags": []
          },
          "execution_count": 9
        }
      ]
    },
    {
      "cell_type": "code",
      "metadata": {
        "id": "UmLb0LH3ZHMq",
        "colab_type": "code",
        "colab": {}
      },
      "source": [
        " # Predicting the Test set results\n",
        "y_pred = classifier.predict(X_test)\n",
        "y_pred = (y_pred > 0.5)"
      ],
      "execution_count": 0,
      "outputs": []
    },
    {
      "cell_type": "code",
      "metadata": {
        "id": "69YUpCanZkdF",
        "colab_type": "code",
        "colab": {}
      },
      "source": [
        "# Making the Confusion Matrix\n",
        "from sklearn.metrics import confusion_matrix\n",
        "cm = confusion_matrix(y_test, y_pred)\n",
        "print(cm)"
      ],
      "execution_count": 0,
      "outputs": []
    }
  ]
}